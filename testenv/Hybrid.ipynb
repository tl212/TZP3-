{
 "cells": [
  {
   "cell_type": "markdown",
   "metadata": {},
   "source": [
    "## TOM, \n",
    "\n",
    "I got it to work. The first 5 cells are needed and then everything after Combined Systems. Naturally you can remove everything used to view the results"
   ]
  },
  {
   "cell_type": "code",
   "execution_count": 7,
   "metadata": {},
   "outputs": [],
   "source": [
    "import pandas as pd\n",
    "import numpy as np"
   ]
  },
  {
   "cell_type": "code",
   "execution_count": 10,
   "metadata": {},
   "outputs": [],
   "source": [
    "#load movies and ratings\n",
    "\n",
    "movies = pd.read_csv('Data/movies_sml.csv')\n",
    "ratings = pd.read_hdf('Data/ratings_hdf.h5')"
   ]
  },
  {
   "cell_type": "code",
   "execution_count": 11,
   "metadata": {},
   "outputs": [],
   "source": [
    "# load movies with bag of words. Needed for content filtering\n",
    "\n",
    "movies_bow = pd.read_csv('Data/movies_bow.csv')"
   ]
  },
  {
   "cell_type": "code",
   "execution_count": 60,
   "metadata": {},
   "outputs": [],
   "source": [
    "# #load ratings matrix.Needed for Collaborative filtering\n",
    "# ratings_matrix = pd.read_hdf('Data/ratings_mx.h5')"
   ]
  },
  {
   "cell_type": "code",
   "execution_count": 12,
   "metadata": {},
   "outputs": [],
   "source": [
    "# load predictions\n",
    "preds = pd.read_hdf('Data/predsfin_hdf.h5')"
   ]
  },
  {
   "cell_type": "code",
   "execution_count": 13,
   "metadata": {},
   "outputs": [
    {
     "data": {
      "text/html": [
       "<div>\n",
       "<style scoped>\n",
       "    .dataframe tbody tr th:only-of-type {\n",
       "        vertical-align: middle;\n",
       "    }\n",
       "\n",
       "    .dataframe tbody tr th {\n",
       "        vertical-align: top;\n",
       "    }\n",
       "\n",
       "    .dataframe thead th {\n",
       "        text-align: right;\n",
       "    }\n",
       "</style>\n",
       "<table border=\"1\" class=\"dataframe\">\n",
       "  <thead>\n",
       "    <tr style=\"text-align: right;\">\n",
       "      <th>movieId</th>\n",
       "      <th>1</th>\n",
       "      <th>2</th>\n",
       "      <th>3</th>\n",
       "      <th>4</th>\n",
       "      <th>5</th>\n",
       "      <th>6</th>\n",
       "      <th>7</th>\n",
       "      <th>8</th>\n",
       "      <th>9</th>\n",
       "      <th>10</th>\n",
       "      <th>...</th>\n",
       "      <th>175991</th>\n",
       "      <th>175993</th>\n",
       "      <th>175995</th>\n",
       "      <th>175999</th>\n",
       "      <th>176001</th>\n",
       "      <th>176003</th>\n",
       "      <th>176007</th>\n",
       "      <th>176157</th>\n",
       "      <th>176211</th>\n",
       "      <th>176271</th>\n",
       "    </tr>\n",
       "  </thead>\n",
       "  <tbody>\n",
       "    <tr>\n",
       "      <th>0</th>\n",
       "      <td>2.560615</td>\n",
       "      <td>0.031274</td>\n",
       "      <td>0.000000</td>\n",
       "      <td>0.02062</td>\n",
       "      <td>0.000000</td>\n",
       "      <td>0.264343</td>\n",
       "      <td>0.000000</td>\n",
       "      <td>0.000000</td>\n",
       "      <td>0.000000</td>\n",
       "      <td>0.201482</td>\n",
       "      <td>...</td>\n",
       "      <td>0.001771</td>\n",
       "      <td>0.001789</td>\n",
       "      <td>0.001807</td>\n",
       "      <td>0.001807</td>\n",
       "      <td>0.001807</td>\n",
       "      <td>0.001824</td>\n",
       "      <td>0.001754</td>\n",
       "      <td>0.001644</td>\n",
       "      <td>0.002967</td>\n",
       "      <td>0.002237</td>\n",
       "    </tr>\n",
       "    <tr>\n",
       "      <th>1</th>\n",
       "      <td>0.441066</td>\n",
       "      <td>0.000000</td>\n",
       "      <td>0.211197</td>\n",
       "      <td>0.00000</td>\n",
       "      <td>0.153935</td>\n",
       "      <td>2.553422</td>\n",
       "      <td>0.270768</td>\n",
       "      <td>0.000000</td>\n",
       "      <td>0.102689</td>\n",
       "      <td>0.535472</td>\n",
       "      <td>...</td>\n",
       "      <td>0.000000</td>\n",
       "      <td>0.000000</td>\n",
       "      <td>0.000000</td>\n",
       "      <td>0.000000</td>\n",
       "      <td>0.000000</td>\n",
       "      <td>0.000000</td>\n",
       "      <td>0.000000</td>\n",
       "      <td>0.000000</td>\n",
       "      <td>0.000000</td>\n",
       "      <td>0.000000</td>\n",
       "    </tr>\n",
       "    <tr>\n",
       "      <th>2</th>\n",
       "      <td>0.000000</td>\n",
       "      <td>0.000000</td>\n",
       "      <td>0.000000</td>\n",
       "      <td>0.06451</td>\n",
       "      <td>0.000000</td>\n",
       "      <td>0.064820</td>\n",
       "      <td>0.000000</td>\n",
       "      <td>0.012888</td>\n",
       "      <td>0.000000</td>\n",
       "      <td>0.000000</td>\n",
       "      <td>...</td>\n",
       "      <td>0.007978</td>\n",
       "      <td>0.007942</td>\n",
       "      <td>0.007906</td>\n",
       "      <td>0.007906</td>\n",
       "      <td>0.007906</td>\n",
       "      <td>0.007870</td>\n",
       "      <td>0.008014</td>\n",
       "      <td>0.009173</td>\n",
       "      <td>0.005091</td>\n",
       "      <td>0.006427</td>\n",
       "    </tr>\n",
       "    <tr>\n",
       "      <th>3</th>\n",
       "      <td>1.296987</td>\n",
       "      <td>1.336419</td>\n",
       "      <td>0.000000</td>\n",
       "      <td>0.00000</td>\n",
       "      <td>0.000000</td>\n",
       "      <td>3.126836</td>\n",
       "      <td>0.000000</td>\n",
       "      <td>0.000000</td>\n",
       "      <td>0.094546</td>\n",
       "      <td>1.727142</td>\n",
       "      <td>...</td>\n",
       "      <td>0.000000</td>\n",
       "      <td>0.000000</td>\n",
       "      <td>0.000056</td>\n",
       "      <td>0.000056</td>\n",
       "      <td>0.000056</td>\n",
       "      <td>0.000154</td>\n",
       "      <td>0.000000</td>\n",
       "      <td>0.002996</td>\n",
       "      <td>0.000401</td>\n",
       "      <td>0.000000</td>\n",
       "    </tr>\n",
       "    <tr>\n",
       "      <th>4</th>\n",
       "      <td>4.743518</td>\n",
       "      <td>0.725185</td>\n",
       "      <td>0.000000</td>\n",
       "      <td>0.00000</td>\n",
       "      <td>0.097943</td>\n",
       "      <td>0.340626</td>\n",
       "      <td>0.199099</td>\n",
       "      <td>0.000000</td>\n",
       "      <td>0.000000</td>\n",
       "      <td>1.098070</td>\n",
       "      <td>...</td>\n",
       "      <td>0.001233</td>\n",
       "      <td>0.001167</td>\n",
       "      <td>0.001102</td>\n",
       "      <td>0.001102</td>\n",
       "      <td>0.001102</td>\n",
       "      <td>0.001036</td>\n",
       "      <td>0.001298</td>\n",
       "      <td>0.000000</td>\n",
       "      <td>0.001855</td>\n",
       "      <td>0.002679</td>\n",
       "    </tr>\n",
       "  </tbody>\n",
       "</table>\n",
       "<p>5 rows × 11102 columns</p>\n",
       "</div>"
      ],
      "text/plain": [
       "movieId    1         2         3        4         5         6         7       \\\n",
       "0        2.560615  0.031274  0.000000  0.02062  0.000000  0.264343  0.000000   \n",
       "1        0.441066  0.000000  0.211197  0.00000  0.153935  2.553422  0.270768   \n",
       "2        0.000000  0.000000  0.000000  0.06451  0.000000  0.064820  0.000000   \n",
       "3        1.296987  1.336419  0.000000  0.00000  0.000000  3.126836  0.000000   \n",
       "4        4.743518  0.725185  0.000000  0.00000  0.097943  0.340626  0.199099   \n",
       "\n",
       "movieId    8         9         10        ...       175991    175993    175995  \\\n",
       "0        0.000000  0.000000  0.201482    ...     0.001771  0.001789  0.001807   \n",
       "1        0.000000  0.102689  0.535472    ...     0.000000  0.000000  0.000000   \n",
       "2        0.012888  0.000000  0.000000    ...     0.007978  0.007942  0.007906   \n",
       "3        0.000000  0.094546  1.727142    ...     0.000000  0.000000  0.000056   \n",
       "4        0.000000  0.000000  1.098070    ...     0.001233  0.001167  0.001102   \n",
       "\n",
       "movieId    175999    176001    176003    176007    176157    176211    176271  \n",
       "0        0.001807  0.001807  0.001824  0.001754  0.001644  0.002967  0.002237  \n",
       "1        0.000000  0.000000  0.000000  0.000000  0.000000  0.000000  0.000000  \n",
       "2        0.007906  0.007906  0.007870  0.008014  0.009173  0.005091  0.006427  \n",
       "3        0.000056  0.000056  0.000154  0.000000  0.002996  0.000401  0.000000  \n",
       "4        0.001102  0.001102  0.001036  0.001298  0.000000  0.001855  0.002679  \n",
       "\n",
       "[5 rows x 11102 columns]"
      ]
     },
     "execution_count": 13,
     "metadata": {},
     "output_type": "execute_result"
    }
   ],
   "source": [
    "preds.head()"
   ]
  },
  {
   "cell_type": "code",
   "execution_count": null,
   "metadata": {},
   "outputs": [],
   "source": []
  },
  {
   "cell_type": "markdown",
   "metadata": {},
   "source": [
    "###### test collab system first to see if any additional files are needed"
   ]
  },
  {
   "cell_type": "code",
   "execution_count": 14,
   "metadata": {},
   "outputs": [],
   "source": [
    "\n",
    "\n",
    "def recommend_movies(predictions, userId, movies, original_ratings, num_recommendations):\n",
    "    \n",
    "    # Get and sort the user's predictions\n",
    "    user_row_number = userId - 1 # User ID starts at 1, not 0\n",
    "    sorted_user_predictions = preds.iloc[user_row_number].sort_values(ascending=False) # User ID starts at 1\n",
    "    \n",
    "    # Get the user's data and merge in the movie information.\n",
    "    user_data = original_ratings[original_ratings.userId == (userId)]\n",
    "    user_full = (user_data.merge(movies, how = 'left', left_on = 'movieId', right_on = 'movieId').\n",
    "                     sort_values(['rating'], ascending=False)\n",
    "                 )\n",
    "\n",
    "#     print (f\"User {0} has already rated {1} movies. format(userID, user_full.shape[0]\")\n",
    "#     print 'Recommending highest {0} predicted ratings movies not already rated.'.format(num_recommendations)\n",
    "    \n",
    "    # Recommend the highest predicted rating movies that the user hasn't seen yet.\n",
    "    recommendations = (movies[~movies['movieId'].isin(user_full['movieId'])].\n",
    "         merge(pd.DataFrame(sorted_user_predictions).reset_index(), how = 'left',\n",
    "               left_on = 'movieId',\n",
    "               right_on = 'movieId').\n",
    "         rename(columns = {user_row_number: 'Predictions'}).\n",
    "         sort_values('Predictions', ascending = False).\n",
    "                       iloc[:num_recommendations, :-1]\n",
    "                      )\n",
    "    rec_movies = recommendations['Title']\n",
    "    already_rated = user_full['Title_x']\n",
    "    return  already_rated, rec_movies"
   ]
  },
  {
   "cell_type": "code",
   "execution_count": 15,
   "metadata": {},
   "outputs": [],
   "source": [
    "already_rated, predictions = recommend_movies(preds, 60, movies, ratings, 20)"
   ]
  },
  {
   "cell_type": "code",
   "execution_count": 16,
   "metadata": {},
   "outputs": [
    {
     "data": {
      "text/plain": [
       "6447                                            Inception\n",
       "1698                                           Fight Club\n",
       "6150                                               Avatar\n",
       "1946                                            Gladiator\n",
       "3305                                    Kill Bill: Vol. 1\n",
       "6231                                       Shutter Island\n",
       "5856                                 Inglourious Basterds\n",
       "2274                                                Shrek\n",
       "3154    Pirates of the Caribbean: The Curse of the Bla...\n",
       "3549                                    Kill Bill: Vol. 2\n",
       "2229                                              Memento\n",
       "5656                                  Slumdog Millionaire\n",
       "2505                                       Ocean's Eleven\n",
       "1106                                    Good Will Hunting\n",
       "5898                                                   Up\n",
       "5457                                             Iron Man\n",
       "7585                                     Django Unchained\n",
       "6155                                      Sherlock Holmes\n",
       "6613         Harry Potter and the Deathly Hallows: Part 1\n",
       "3690             Harry Potter and the Prisoner of Azkaban\n",
       "Name: Title, dtype: object"
      ]
     },
     "execution_count": 16,
     "metadata": {},
     "output_type": "execute_result"
    }
   ],
   "source": [
    "predictions"
   ]
  },
  {
   "cell_type": "markdown",
   "metadata": {},
   "source": [
    "###### test content system first to see if any additional files are needed"
   ]
  },
  {
   "cell_type": "code",
   "execution_count": 17,
   "metadata": {},
   "outputs": [],
   "source": [
    "from sklearn.feature_extraction.text import CountVectorizer\n",
    "from sklearn.metrics.pairwise import cosine_similarity"
   ]
  },
  {
   "cell_type": "code",
   "execution_count": 18,
   "metadata": {},
   "outputs": [],
   "source": [
    "# Initializing and generating the count matrix \n",
    "\n",
    "count = CountVectorizer()\n",
    "count_matrix = count.fit_transform(movies_bow['bag_of_words'])"
   ]
  },
  {
   "cell_type": "code",
   "execution_count": 19,
   "metadata": {},
   "outputs": [],
   "source": [
    "# Generating the cosine similarity matrix\n",
    "\n",
    "cosine_sim = cosine_similarity(count_matrix, count_matrix)"
   ]
  },
  {
   "cell_type": "code",
   "execution_count": 20,
   "metadata": {},
   "outputs": [],
   "source": [
    "#map index to Title. This will be used in the function and is integral to \n",
    "# how we access the recommended movies\n",
    "\n",
    "indices = pd.Series(movies_bow.index, index = movies_bow['Title'])\n",
    "\n",
    "#Create recommendation function\n",
    "\n",
    "def get_recommendations(title, cosine_sim=cosine_sim):\n",
    "    # Get the index of the movie that matches the title\n",
    "    idx = indices[title]\n",
    "\n",
    "    # Get the pairwsie similarity scores of all movies with that movie\n",
    "    sim_scores = list(enumerate(cosine_sim[idx]))\n",
    "\n",
    "    # Sort the movies based on the similarity scores\n",
    "    sim_scores = sorted(sim_scores, key=lambda x: x[1], reverse=True)\n",
    "\n",
    "    # Get the scores of the 10 most similar movies\n",
    "    sim_scores = sim_scores[1:26]\n",
    "\n",
    "    # Get the movie indices\n",
    "    movie_indices = [i[0] for i in sim_scores]\n",
    "\n",
    "    # Return the top 10 most similar movies\n",
    "    return movies_bow['Title'].iloc[movie_indices]"
   ]
  },
  {
   "cell_type": "code",
   "execution_count": 21,
   "metadata": {},
   "outputs": [
    {
     "data": {
      "text/plain": [
       "10841                   Kung Fu Yoga\n",
       "4038                       Who Am I?\n",
       "3401                     Crime Story\n",
       "660                       Supercop 2\n",
       "679      Around the World in 80 Days\n",
       "680      Around the World in 80 Days\n",
       "1127                       Mr. Magoo\n",
       "1393                       Rush Hour\n",
       "1565                      Black Mask\n",
       "1970                   Shanghai Noon\n",
       "2391                     Rush Hour 2\n",
       "3983                     City Hunter\n",
       "4852                     Thunderbolt\n",
       "5184                     Rush Hour 3\n",
       "9400                    Dragon Blade\n",
       "10585                      Skiptrace\n",
       "10678                Railroad Tigers\n",
       "1209                    Mr. Nice Guy\n",
       "2993                Shanghai Knights\n",
       "4294                        Gorgeous\n",
       "4536                New Police Story\n",
       "6246               Shinjuku Incident\n",
       "6658              Little Big Soldier\n",
       "4850                    Swordsman II\n",
       "0                          Toy Story\n",
       "Name: Title, dtype: object"
      ]
     },
     "execution_count": 21,
     "metadata": {},
     "output_type": "execute_result"
    }
   ],
   "source": [
    "get_recommendations('Rumble in the Bronx')"
   ]
  },
  {
   "cell_type": "markdown",
   "metadata": {},
   "source": [
    "#### Combined Systems"
   ]
  },
  {
   "cell_type": "code",
   "execution_count": 22,
   "metadata": {},
   "outputs": [
    {
     "data": {
      "text/plain": [
       "Title\n",
       "Toy Story                                                       0\n",
       "Jumanji                                                         1\n",
       "Grumpier Old Men                                                2\n",
       "Waiting to Exhale                                               3\n",
       "Father of the Bride Part II                                     4\n",
       "Heat                                                            5\n",
       "Heat                                                            6\n",
       "Sabrina                                                         7\n",
       "Sabrina                                                         8\n",
       "Tom and Huck                                                    9\n",
       "Sudden Death                                                   10\n",
       "GoldenEye                                                      11\n",
       "Dracula: Dead and Loving It                                    12\n",
       "Balto                                                          13\n",
       "Nixon                                                          14\n",
       "Cutthroat Island                                               15\n",
       "Casino                                                         16\n",
       "Sense and Sensibility                                          17\n",
       "Four Rooms                                                     18\n",
       "Ace Ventura: When Nature Calls                                 19\n",
       "Money Train                                                    20\n",
       "Get Shorty                                                     21\n",
       "Copycat                                                        22\n",
       "Assassins                                                      23\n",
       "Powder                                                         24\n",
       "Leaving Las Vegas                                              25\n",
       "Othello                                                        26\n",
       "Othello                                                        27\n",
       "Now and Then                                                   28\n",
       "Persuasion                                                     29\n",
       "                                                            ...  \n",
       "Independents' Day                                           11072\n",
       "The Emoji Movie                                             11073\n",
       "The Saint                                                   11074\n",
       "Dragstrip Girl                                              11075\n",
       "Dying to Belong                                             11076\n",
       "Eating                                                      11077\n",
       "Getting Out                                                 11078\n",
       "Hit Me                                                      11079\n",
       "How to Be Louise                                            11080\n",
       "Aiyyaa                                                      11081\n",
       "The Nile Hilton Incident                                    11082\n",
       "Zygote                                                      11083\n",
       "Girls Trip                                                  11084\n",
       "Landline                                                    11085\n",
       "Rick and Morty: State of Georgia Vs. Denver Fenton Allen    11086\n",
       "A German Life                                               11087\n",
       "Cure for Pain: The Mark Sandman Story                       11088\n",
       "Ducoboo                                                     11089\n",
       "First Kill                                                  11090\n",
       "Descendants 2                                               11091\n",
       "Little Girls in Pretty Boxes                                11092\n",
       "Scribe                                                      11093\n",
       "Over/Under                                                  11094\n",
       "The Visitors: Bastille Day                                  11095\n",
       "Monster Ark                                                 11096\n",
       "High Plains Invaders                                        11097\n",
       "Headless Horseman                                           11098\n",
       "Kuka                                                        11099\n",
       "In a Heartbeat                                              11100\n",
       "Century of Birthing                                         11101\n",
       "Length: 11102, dtype: int64"
      ]
     },
     "execution_count": 22,
     "metadata": {},
     "output_type": "execute_result"
    }
   ],
   "source": [
    "#Content-based Recommendations Sections\n",
    "indices = pd.Series(movies_bow.index, index = movies_bow['Title'])\n",
    "\n",
    "indices"
   ]
  },
  {
   "cell_type": "code",
   "execution_count": 23,
   "metadata": {},
   "outputs": [],
   "source": [
    "idx = indices['American History X']"
   ]
  },
  {
   "cell_type": "code",
   "execution_count": 24,
   "metadata": {},
   "outputs": [],
   "source": [
    "sim_scores = list(enumerate(cosine_sim[idx]))\n"
   ]
  },
  {
   "cell_type": "code",
   "execution_count": 25,
   "metadata": {},
   "outputs": [],
   "source": [
    "sim_scores = sorted(sim_scores, key=lambda x: x[1], reverse=True)"
   ]
  },
  {
   "cell_type": "code",
   "execution_count": 26,
   "metadata": {},
   "outputs": [],
   "source": [
    "sim_scores = sim_scores[1:26]"
   ]
  },
  {
   "cell_type": "code",
   "execution_count": 27,
   "metadata": {},
   "outputs": [],
   "source": [
    "movie_indices = [i[0] for i in sim_scores]"
   ]
  },
  {
   "cell_type": "code",
   "execution_count": 28,
   "metadata": {},
   "outputs": [
    {
     "data": {
      "text/html": [
       "<div>\n",
       "<style scoped>\n",
       "    .dataframe tbody tr th:only-of-type {\n",
       "        vertical-align: middle;\n",
       "    }\n",
       "\n",
       "    .dataframe tbody tr th {\n",
       "        vertical-align: top;\n",
       "    }\n",
       "\n",
       "    .dataframe thead th {\n",
       "        text-align: right;\n",
       "    }\n",
       "</style>\n",
       "<table border=\"1\" class=\"dataframe\">\n",
       "  <thead>\n",
       "    <tr style=\"text-align: right;\">\n",
       "      <th></th>\n",
       "      <th>movieId</th>\n",
       "    </tr>\n",
       "  </thead>\n",
       "  <tbody>\n",
       "    <tr>\n",
       "      <th>396</th>\n",
       "      <td>487</td>\n",
       "    </tr>\n",
       "    <tr>\n",
       "      <th>935</th>\n",
       "      <td>1461</td>\n",
       "    </tr>\n",
       "    <tr>\n",
       "      <th>4250</th>\n",
       "      <td>31045</td>\n",
       "    </tr>\n",
       "    <tr>\n",
       "      <th>4252</th>\n",
       "      <td>31083</td>\n",
       "    </tr>\n",
       "    <tr>\n",
       "      <th>1929</th>\n",
       "      <td>3536</td>\n",
       "    </tr>\n",
       "    <tr>\n",
       "      <th>9581</th>\n",
       "      <td>137900</td>\n",
       "    </tr>\n",
       "    <tr>\n",
       "      <th>104</th>\n",
       "      <td>113</td>\n",
       "    </tr>\n",
       "    <tr>\n",
       "      <th>228</th>\n",
       "      <td>268</td>\n",
       "    </tr>\n",
       "    <tr>\n",
       "      <th>467</th>\n",
       "      <td>589</td>\n",
       "    </tr>\n",
       "    <tr>\n",
       "      <th>741</th>\n",
       "      <td>1057</td>\n",
       "    </tr>\n",
       "    <tr>\n",
       "      <th>1399</th>\n",
       "      <td>2282</td>\n",
       "    </tr>\n",
       "    <tr>\n",
       "      <th>1502</th>\n",
       "      <td>2514</td>\n",
       "    </tr>\n",
       "    <tr>\n",
       "      <th>1620</th>\n",
       "      <td>2772</td>\n",
       "    </tr>\n",
       "    <tr>\n",
       "      <th>1698</th>\n",
       "      <td>2959</td>\n",
       "    </tr>\n",
       "    <tr>\n",
       "      <th>2797</th>\n",
       "      <td>5630</td>\n",
       "    </tr>\n",
       "    <tr>\n",
       "      <th>2919</th>\n",
       "      <td>5954</td>\n",
       "    </tr>\n",
       "    <tr>\n",
       "      <th>3010</th>\n",
       "      <td>6198</td>\n",
       "    </tr>\n",
       "    <tr>\n",
       "      <th>3063</th>\n",
       "      <td>6304</td>\n",
       "    </tr>\n",
       "    <tr>\n",
       "      <th>3714</th>\n",
       "      <td>8495</td>\n",
       "    </tr>\n",
       "    <tr>\n",
       "      <th>4773</th>\n",
       "      <td>45382</td>\n",
       "    </tr>\n",
       "    <tr>\n",
       "      <th>4906</th>\n",
       "      <td>48770</td>\n",
       "    </tr>\n",
       "    <tr>\n",
       "      <th>5480</th>\n",
       "      <td>59684</td>\n",
       "    </tr>\n",
       "    <tr>\n",
       "      <th>6278</th>\n",
       "      <td>75813</td>\n",
       "    </tr>\n",
       "    <tr>\n",
       "      <th>6379</th>\n",
       "      <td>78030</td>\n",
       "    </tr>\n",
       "    <tr>\n",
       "      <th>6551</th>\n",
       "      <td>80880</td>\n",
       "    </tr>\n",
       "  </tbody>\n",
       "</table>\n",
       "</div>"
      ],
      "text/plain": [
       "      movieId\n",
       "396       487\n",
       "935      1461\n",
       "4250    31045\n",
       "4252    31083\n",
       "1929     3536\n",
       "9581   137900\n",
       "104       113\n",
       "228       268\n",
       "467       589\n",
       "741      1057\n",
       "1399     2282\n",
       "1502     2514\n",
       "1620     2772\n",
       "1698     2959\n",
       "2797     5630\n",
       "2919     5954\n",
       "3010     6198\n",
       "3063     6304\n",
       "3714     8495\n",
       "4773    45382\n",
       "4906    48770\n",
       "5480    59684\n",
       "6278    75813\n",
       "6379    78030\n",
       "6551    80880"
      ]
     },
     "execution_count": 28,
     "metadata": {},
     "output_type": "execute_result"
    }
   ],
   "source": [
    "content_results = pd.DataFrame(movies_bow['movieId'].iloc[movie_indices])\n",
    "\n",
    "\n",
    "content_results "
   ]
  },
  {
   "cell_type": "code",
   "execution_count": 34,
   "metadata": {},
   "outputs": [
    {
     "data": {
      "text/html": [
       "<div>\n",
       "<style scoped>\n",
       "    .dataframe tbody tr th:only-of-type {\n",
       "        vertical-align: middle;\n",
       "    }\n",
       "\n",
       "    .dataframe tbody tr th {\n",
       "        vertical-align: top;\n",
       "    }\n",
       "\n",
       "    .dataframe thead th {\n",
       "        text-align: right;\n",
       "    }\n",
       "</style>\n",
       "<table border=\"1\" class=\"dataframe\">\n",
       "  <thead>\n",
       "    <tr style=\"text-align: right;\">\n",
       "      <th></th>\n",
       "      <th>movieId</th>\n",
       "      <th>60</th>\n",
       "    </tr>\n",
       "  </thead>\n",
       "  <tbody>\n",
       "    <tr>\n",
       "      <th>0</th>\n",
       "      <td>6942</td>\n",
       "      <td>3.180631</td>\n",
       "    </tr>\n",
       "    <tr>\n",
       "      <th>1</th>\n",
       "      <td>56367</td>\n",
       "      <td>3.137189</td>\n",
       "    </tr>\n",
       "    <tr>\n",
       "      <th>2</th>\n",
       "      <td>597</td>\n",
       "      <td>3.079730</td>\n",
       "    </tr>\n",
       "    <tr>\n",
       "      <th>3</th>\n",
       "      <td>7361</td>\n",
       "      <td>2.900276</td>\n",
       "    </tr>\n",
       "    <tr>\n",
       "      <th>4</th>\n",
       "      <td>2572</td>\n",
       "      <td>2.807026</td>\n",
       "    </tr>\n",
       "  </tbody>\n",
       "</table>\n",
       "</div>"
      ],
      "text/plain": [
       "   movieId        60\n",
       "0     6942  3.180631\n",
       "1    56367  3.137189\n",
       "2      597  3.079730\n",
       "3     7361  2.900276\n",
       "4     2572  2.807026"
      ]
     },
     "execution_count": 34,
     "metadata": {},
     "output_type": "execute_result"
    }
   ],
   "source": [
    "# Collaborative Filtering Sections\n",
    "\n",
    "# get user predictions\n",
    "\n",
    "user= 60 # User ID starts at 1, not 0\n",
    "\n",
    "sorted_user_predictions = pd.DataFrame(preds.iloc[user].sort_values(ascending=False).reset_index())\n",
    "\n",
    "sorted_user_predictions.head()"
   ]
  },
  {
   "cell_type": "code",
   "execution_count": 35,
   "metadata": {},
   "outputs": [],
   "source": [
    "# Get the movies the user originally rated\n",
    "user_data = ratings[ratings.userId == user]\n",
    "\n",
    "#combine the movies the user originally rated with the movies dataset and only keeping the movies\n",
    "#the user rated\n",
    "\n",
    "user_full = (user_data.merge(movies, how = 'left', left_on = 'movieId', right_on = 'movieId').\n",
    "                     sort_values(['rating'], ascending=False))"
   ]
  },
  {
   "cell_type": "code",
   "execution_count": 36,
   "metadata": {},
   "outputs": [
    {
     "name": "stdout",
     "output_type": "stream",
     "text": [
      "Index(['userId', 'num_user_rated', 'Title_x', 'rating', 'movieId', 'Title_y',\n",
      "       'genres', 'Actors', 'Director', 'Plot', 'Poster'],\n",
      "      dtype='object')\n"
     ]
    },
    {
     "data": {
      "text/html": [
       "<div>\n",
       "<style scoped>\n",
       "    .dataframe tbody tr th:only-of-type {\n",
       "        vertical-align: middle;\n",
       "    }\n",
       "\n",
       "    .dataframe tbody tr th {\n",
       "        vertical-align: top;\n",
       "    }\n",
       "\n",
       "    .dataframe thead th {\n",
       "        text-align: right;\n",
       "    }\n",
       "</style>\n",
       "<table border=\"1\" class=\"dataframe\">\n",
       "  <thead>\n",
       "    <tr style=\"text-align: right;\">\n",
       "      <th></th>\n",
       "      <th>userId</th>\n",
       "      <th>movieId</th>\n",
       "      <th>Title</th>\n",
       "      <th>rating</th>\n",
       "      <th>genres</th>\n",
       "      <th>Actors</th>\n",
       "      <th>Director</th>\n",
       "      <th>Plot</th>\n",
       "      <th>Poster</th>\n",
       "    </tr>\n",
       "  </thead>\n",
       "  <tbody>\n",
       "  </tbody>\n",
       "</table>\n",
       "</div>"
      ],
      "text/plain": [
       "Empty DataFrame\n",
       "Columns: [userId, movieId, Title, rating, genres, Actors, Director, Plot, Poster]\n",
       "Index: []"
      ]
     },
     "execution_count": 36,
     "metadata": {},
     "output_type": "execute_result"
    }
   ],
   "source": [
    "print(user_full.columns)\n",
    "\n",
    "user_full = user_full[['userId', 'movieId', 'Title_x', 'rating', 'genres', 'Actors', 'Director', 'Plot', 'Poster']].\\\n",
    "            rename(columns = {'Title_x': 'Title'})\n",
    "\n",
    "\n",
    "user_full.head()"
   ]
  },
  {
   "cell_type": "code",
   "execution_count": 32,
   "metadata": {},
   "outputs": [],
   "source": [
    "\n",
    "num_recommendations = 1000"
   ]
  },
  {
   "cell_type": "markdown",
   "metadata": {},
   "source": [
    "I noticed if the user doesn't watch anything similar to the movie inputted, we need to return a wide range of values from the sorted ratings. This is why num_recommendations is so high. \n",
    "\n",
    "One workaround is to limit num_recommendations to 100 and if there are no matches between content and collaborative results, set a message saying you will not like movies like 'movie name'"
   ]
  },
  {
   "cell_type": "code",
   "execution_count": 37,
   "metadata": {},
   "outputs": [],
   "source": [
    "# Original Code from Collaborative Filter Function\n",
    "\n",
    "# Recommend the highest predicted rating movies that the user hasn't seen yet.\n",
    "movie_preds = (movies[~movies['movieId'].isin(user_full['movieId'])].\n",
    "         merge(pd.DataFrame(sorted_user_predictions).reset_index(), how = 'left',\n",
    "               left_on = 'movieId',\n",
    "               right_on = 'movieId').\n",
    "         rename(columns = {user: 'Predictions'}).\n",
    "         sort_values('Predictions', ascending = False).\n",
    "                       iloc[:num_recommendations]\n",
    ")\n",
    "\n",
    "\n"
   ]
  },
  {
   "cell_type": "code",
   "execution_count": 38,
   "metadata": {},
   "outputs": [
    {
     "data": {
      "text/plain": [
       "(1000, 9)"
      ]
     },
     "execution_count": 38,
     "metadata": {},
     "output_type": "execute_result"
    }
   ],
   "source": [
    "movie_preds.shape"
   ]
  },
  {
   "cell_type": "code",
   "execution_count": 39,
   "metadata": {},
   "outputs": [
    {
     "data": {
      "text/plain": [
       "(1000, 9)"
      ]
     },
     "execution_count": 39,
     "metadata": {},
     "output_type": "execute_result"
    }
   ],
   "source": [
    "movie_preds.shape"
   ]
  },
  {
   "cell_type": "code",
   "execution_count": 40,
   "metadata": {},
   "outputs": [],
   "source": [
    "# lookup movie predictions from content system from this dataframe\n",
    "\n",
    "movie_recs = pd.merge(content_results, movie_preds, how='left', on='movieId').\\\n",
    "    sort_values('Predictions', ascending=False).dropna().head()"
   ]
  },
  {
   "cell_type": "code",
   "execution_count": 41,
   "metadata": {},
   "outputs": [
    {
     "data": {
      "text/html": [
       "<div>\n",
       "<style scoped>\n",
       "    .dataframe tbody tr th:only-of-type {\n",
       "        vertical-align: middle;\n",
       "    }\n",
       "\n",
       "    .dataframe tbody tr th {\n",
       "        vertical-align: top;\n",
       "    }\n",
       "\n",
       "    .dataframe thead th {\n",
       "        text-align: right;\n",
       "    }\n",
       "</style>\n",
       "<table border=\"1\" class=\"dataframe\">\n",
       "  <thead>\n",
       "    <tr style=\"text-align: right;\">\n",
       "      <th></th>\n",
       "      <th>movieId</th>\n",
       "      <th>Title</th>\n",
       "      <th>genres</th>\n",
       "      <th>Actors</th>\n",
       "      <th>Director</th>\n",
       "      <th>Plot</th>\n",
       "      <th>Poster</th>\n",
       "      <th>index</th>\n",
       "      <th>Predictions</th>\n",
       "    </tr>\n",
       "  </thead>\n",
       "  <tbody>\n",
       "    <tr>\n",
       "      <th>13</th>\n",
       "      <td>2959</td>\n",
       "      <td>Fight Club</td>\n",
       "      <td>Action|Crime|Drama|Thriller</td>\n",
       "      <td>Edward Norton, Brad Pitt, Meat Loaf, Zach Grenier</td>\n",
       "      <td>David Fincher</td>\n",
       "      <td>An insomniac office worker and a devil-may-car...</td>\n",
       "      <td>https://m.media-amazon.com/images/M/MV5BMjJmYT...</td>\n",
       "      <td>67.0</td>\n",
       "      <td>0.980892</td>\n",
       "    </tr>\n",
       "    <tr>\n",
       "      <th>4</th>\n",
       "      <td>3536</td>\n",
       "      <td>Keeping the Faith</td>\n",
       "      <td>Comedy|Drama|Romance</td>\n",
       "      <td>Ben Stiller, Edward Norton, Jenna Elfman, Anne...</td>\n",
       "      <td>Edward Norton</td>\n",
       "      <td>Two friends, a priest and a rabbi, fall in lov...</td>\n",
       "      <td>https://m.media-amazon.com/images/M/MV5BMTMxNz...</td>\n",
       "      <td>327.0</td>\n",
       "      <td>0.249671</td>\n",
       "    </tr>\n",
       "    <tr>\n",
       "      <th>12</th>\n",
       "      <td>2772</td>\n",
       "      <td>Detroit Rock City</td>\n",
       "      <td>Comedy</td>\n",
       "      <td>Giuseppe Andrews, James DeBello, Edward Furlon...</td>\n",
       "      <td>Adam Rifkin</td>\n",
       "      <td>In 1978, four rebellious teenagers try to scam...</td>\n",
       "      <td>https://m.media-amazon.com/images/M/MV5BMmU5ZT...</td>\n",
       "      <td>948.0</td>\n",
       "      <td>0.071727</td>\n",
       "    </tr>\n",
       "  </tbody>\n",
       "</table>\n",
       "</div>"
      ],
      "text/plain": [
       "    movieId              Title                       genres  \\\n",
       "13     2959         Fight Club  Action|Crime|Drama|Thriller   \n",
       "4      3536  Keeping the Faith         Comedy|Drama|Romance   \n",
       "12     2772  Detroit Rock City                       Comedy   \n",
       "\n",
       "                                               Actors       Director  \\\n",
       "13  Edward Norton, Brad Pitt, Meat Loaf, Zach Grenier  David Fincher   \n",
       "4   Ben Stiller, Edward Norton, Jenna Elfman, Anne...  Edward Norton   \n",
       "12  Giuseppe Andrews, James DeBello, Edward Furlon...    Adam Rifkin   \n",
       "\n",
       "                                                 Plot  \\\n",
       "13  An insomniac office worker and a devil-may-car...   \n",
       "4   Two friends, a priest and a rabbi, fall in lov...   \n",
       "12  In 1978, four rebellious teenagers try to scam...   \n",
       "\n",
       "                                               Poster  index  Predictions  \n",
       "13  https://m.media-amazon.com/images/M/MV5BMjJmYT...   67.0     0.980892  \n",
       "4   https://m.media-amazon.com/images/M/MV5BMTMxNz...  327.0     0.249671  \n",
       "12  https://m.media-amazon.com/images/M/MV5BMmU5ZT...  948.0     0.071727  "
      ]
     },
     "execution_count": 41,
     "metadata": {},
     "output_type": "execute_result"
    }
   ],
   "source": [
    "movie_recs"
   ]
  },
  {
   "cell_type": "markdown",
   "metadata": {},
   "source": []
  },
  {
   "cell_type": "code",
   "execution_count": null,
   "metadata": {},
   "outputs": [],
   "source": []
  }
 ],
 "metadata": {
  "kernelspec": {
   "display_name": "Python 3",
   "language": "python",
   "name": "python3"
  },
  "language_info": {
   "codemirror_mode": {
    "name": "ipython",
    "version": 3
   },
   "file_extension": ".py",
   "mimetype": "text/x-python",
   "name": "python",
   "nbconvert_exporter": "python",
   "pygments_lexer": "ipython3",
   "version": "3.7.0"
  }
 },
 "nbformat": 4,
 "nbformat_minor": 2
}
